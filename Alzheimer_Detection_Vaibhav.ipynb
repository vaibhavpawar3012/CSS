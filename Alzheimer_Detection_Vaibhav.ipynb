{
  "nbformat": 4,
  "nbformat_minor": 0,
  "metadata": {
    "colab": {
      "provenance": [],
      "authorship_tag": "ABX9TyPkf+nv7pSC4NtUq23nzs1l",
      "include_colab_link": true
    },
    "kernelspec": {
      "name": "python3",
      "display_name": "Python 3"
    },
    "language_info": {
      "name": "python"
    }
  },
  "cells": [
    {
      "cell_type": "markdown",
      "metadata": {
        "id": "view-in-github",
        "colab_type": "text"
      },
      "source": [
        "<a href=\"https://colab.research.google.com/github/vaibhavpawar3012/CSS/blob/main/Alzheimer_Detection_Vaibhav.ipynb\" target=\"_parent\"><img src=\"https://colab.research.google.com/assets/colab-badge.svg\" alt=\"Open In Colab\"/></a>"
      ]
    },
    {
      "cell_type": "markdown",
      "source": [
        "**EXPLORATORY DATA ANALYSIS (EDA)**"
      ],
      "metadata": {
        "id": "3JkzbnKJBea5"
      }
    },
    {
      "cell_type": "markdown",
      "source": [
        "In this section, we have focused on exploring the relationship between each feature of MRI tests and dementia of the patient. The reason we conducted this Exploratory Data Analysis process is to state the relationship of data explicitly through a graph so that we could assume the correlations before data extraction or data analysis. It might help us to understand the nature of the data and to select the appropriate analysis method for the model later.\n",
        "\n",
        "The minimum, maximum, and average values of each feature for graph implementation are as follows.\n"
      ],
      "metadata": {
        "id": "QRYW6ll-Boyg"
      }
    },
    {
      "cell_type": "code",
      "execution_count": 2,
      "metadata": {
        "colab": {
          "base_uri": "https://localhost:8080/",
          "height": 206
        },
        "id": "TBvoB7Y91XAs",
        "outputId": "1491f54f-be2d-4083-9324-2641932f0704"
      },
      "outputs": [
        {
          "output_type": "execute_result",
          "data": {
            "text/plain": [
              "  Subject ID         MRI ID        Group  Visit  MR Delay M/F Hand  Age  EDUC  \\\n",
              "0  OAS2_0001  OAS2_0001_MR1  Nondemented      1         0   M    R   87    14   \n",
              "1  OAS2_0001  OAS2_0001_MR2  Nondemented      2       457   M    R   88    14   \n",
              "2  OAS2_0002  OAS2_0002_MR1     Demented      1         0   M    R   75    12   \n",
              "3  OAS2_0002  OAS2_0002_MR2     Demented      2       560   M    R   76    12   \n",
              "4  OAS2_0002  OAS2_0002_MR3     Demented      3      1895   M    R   80    12   \n",
              "\n",
              "   SES  MMSE  CDR  eTIV   nWBV    ASF  \n",
              "0  2.0  27.0  0.0  1987  0.696  0.883  \n",
              "1  2.0  30.0  0.0  2004  0.681  0.876  \n",
              "2  NaN  23.0  0.5  1678  0.736  1.046  \n",
              "3  NaN  28.0  0.5  1738  0.713  1.010  \n",
              "4  NaN  22.0  0.5  1698  0.701  1.034  "
            ],
            "text/html": [
              "\n",
              "  <div id=\"df-0367a9cd-c5de-4059-a6d9-311288452b05\">\n",
              "    <div class=\"colab-df-container\">\n",
              "      <div>\n",
              "<style scoped>\n",
              "    .dataframe tbody tr th:only-of-type {\n",
              "        vertical-align: middle;\n",
              "    }\n",
              "\n",
              "    .dataframe tbody tr th {\n",
              "        vertical-align: top;\n",
              "    }\n",
              "\n",
              "    .dataframe thead th {\n",
              "        text-align: right;\n",
              "    }\n",
              "</style>\n",
              "<table border=\"1\" class=\"dataframe\">\n",
              "  <thead>\n",
              "    <tr style=\"text-align: right;\">\n",
              "      <th></th>\n",
              "      <th>Subject ID</th>\n",
              "      <th>MRI ID</th>\n",
              "      <th>Group</th>\n",
              "      <th>Visit</th>\n",
              "      <th>MR Delay</th>\n",
              "      <th>M/F</th>\n",
              "      <th>Hand</th>\n",
              "      <th>Age</th>\n",
              "      <th>EDUC</th>\n",
              "      <th>SES</th>\n",
              "      <th>MMSE</th>\n",
              "      <th>CDR</th>\n",
              "      <th>eTIV</th>\n",
              "      <th>nWBV</th>\n",
              "      <th>ASF</th>\n",
              "    </tr>\n",
              "  </thead>\n",
              "  <tbody>\n",
              "    <tr>\n",
              "      <th>0</th>\n",
              "      <td>OAS2_0001</td>\n",
              "      <td>OAS2_0001_MR1</td>\n",
              "      <td>Nondemented</td>\n",
              "      <td>1</td>\n",
              "      <td>0</td>\n",
              "      <td>M</td>\n",
              "      <td>R</td>\n",
              "      <td>87</td>\n",
              "      <td>14</td>\n",
              "      <td>2.0</td>\n",
              "      <td>27.0</td>\n",
              "      <td>0.0</td>\n",
              "      <td>1987</td>\n",
              "      <td>0.696</td>\n",
              "      <td>0.883</td>\n",
              "    </tr>\n",
              "    <tr>\n",
              "      <th>1</th>\n",
              "      <td>OAS2_0001</td>\n",
              "      <td>OAS2_0001_MR2</td>\n",
              "      <td>Nondemented</td>\n",
              "      <td>2</td>\n",
              "      <td>457</td>\n",
              "      <td>M</td>\n",
              "      <td>R</td>\n",
              "      <td>88</td>\n",
              "      <td>14</td>\n",
              "      <td>2.0</td>\n",
              "      <td>30.0</td>\n",
              "      <td>0.0</td>\n",
              "      <td>2004</td>\n",
              "      <td>0.681</td>\n",
              "      <td>0.876</td>\n",
              "    </tr>\n",
              "    <tr>\n",
              "      <th>2</th>\n",
              "      <td>OAS2_0002</td>\n",
              "      <td>OAS2_0002_MR1</td>\n",
              "      <td>Demented</td>\n",
              "      <td>1</td>\n",
              "      <td>0</td>\n",
              "      <td>M</td>\n",
              "      <td>R</td>\n",
              "      <td>75</td>\n",
              "      <td>12</td>\n",
              "      <td>NaN</td>\n",
              "      <td>23.0</td>\n",
              "      <td>0.5</td>\n",
              "      <td>1678</td>\n",
              "      <td>0.736</td>\n",
              "      <td>1.046</td>\n",
              "    </tr>\n",
              "    <tr>\n",
              "      <th>3</th>\n",
              "      <td>OAS2_0002</td>\n",
              "      <td>OAS2_0002_MR2</td>\n",
              "      <td>Demented</td>\n",
              "      <td>2</td>\n",
              "      <td>560</td>\n",
              "      <td>M</td>\n",
              "      <td>R</td>\n",
              "      <td>76</td>\n",
              "      <td>12</td>\n",
              "      <td>NaN</td>\n",
              "      <td>28.0</td>\n",
              "      <td>0.5</td>\n",
              "      <td>1738</td>\n",
              "      <td>0.713</td>\n",
              "      <td>1.010</td>\n",
              "    </tr>\n",
              "    <tr>\n",
              "      <th>4</th>\n",
              "      <td>OAS2_0002</td>\n",
              "      <td>OAS2_0002_MR3</td>\n",
              "      <td>Demented</td>\n",
              "      <td>3</td>\n",
              "      <td>1895</td>\n",
              "      <td>M</td>\n",
              "      <td>R</td>\n",
              "      <td>80</td>\n",
              "      <td>12</td>\n",
              "      <td>NaN</td>\n",
              "      <td>22.0</td>\n",
              "      <td>0.5</td>\n",
              "      <td>1698</td>\n",
              "      <td>0.701</td>\n",
              "      <td>1.034</td>\n",
              "    </tr>\n",
              "  </tbody>\n",
              "</table>\n",
              "</div>\n",
              "      <button class=\"colab-df-convert\" onclick=\"convertToInteractive('df-0367a9cd-c5de-4059-a6d9-311288452b05')\"\n",
              "              title=\"Convert this dataframe to an interactive table.\"\n",
              "              style=\"display:none;\">\n",
              "        \n",
              "  <svg xmlns=\"http://www.w3.org/2000/svg\" height=\"24px\"viewBox=\"0 0 24 24\"\n",
              "       width=\"24px\">\n",
              "    <path d=\"M0 0h24v24H0V0z\" fill=\"none\"/>\n",
              "    <path d=\"M18.56 5.44l.94 2.06.94-2.06 2.06-.94-2.06-.94-.94-2.06-.94 2.06-2.06.94zm-11 1L8.5 8.5l.94-2.06 2.06-.94-2.06-.94L8.5 2.5l-.94 2.06-2.06.94zm10 10l.94 2.06.94-2.06 2.06-.94-2.06-.94-.94-2.06-.94 2.06-2.06.94z\"/><path d=\"M17.41 7.96l-1.37-1.37c-.4-.4-.92-.59-1.43-.59-.52 0-1.04.2-1.43.59L10.3 9.45l-7.72 7.72c-.78.78-.78 2.05 0 2.83L4 21.41c.39.39.9.59 1.41.59.51 0 1.02-.2 1.41-.59l7.78-7.78 2.81-2.81c.8-.78.8-2.07 0-2.86zM5.41 20L4 18.59l7.72-7.72 1.47 1.35L5.41 20z\"/>\n",
              "  </svg>\n",
              "      </button>\n",
              "      \n",
              "  <style>\n",
              "    .colab-df-container {\n",
              "      display:flex;\n",
              "      flex-wrap:wrap;\n",
              "      gap: 12px;\n",
              "    }\n",
              "\n",
              "    .colab-df-convert {\n",
              "      background-color: #E8F0FE;\n",
              "      border: none;\n",
              "      border-radius: 50%;\n",
              "      cursor: pointer;\n",
              "      display: none;\n",
              "      fill: #1967D2;\n",
              "      height: 32px;\n",
              "      padding: 0 0 0 0;\n",
              "      width: 32px;\n",
              "    }\n",
              "\n",
              "    .colab-df-convert:hover {\n",
              "      background-color: #E2EBFA;\n",
              "      box-shadow: 0px 1px 2px rgba(60, 64, 67, 0.3), 0px 1px 3px 1px rgba(60, 64, 67, 0.15);\n",
              "      fill: #174EA6;\n",
              "    }\n",
              "\n",
              "    [theme=dark] .colab-df-convert {\n",
              "      background-color: #3B4455;\n",
              "      fill: #D2E3FC;\n",
              "    }\n",
              "\n",
              "    [theme=dark] .colab-df-convert:hover {\n",
              "      background-color: #434B5C;\n",
              "      box-shadow: 0px 1px 3px 1px rgba(0, 0, 0, 0.15);\n",
              "      filter: drop-shadow(0px 1px 2px rgba(0, 0, 0, 0.3));\n",
              "      fill: #FFFFFF;\n",
              "    }\n",
              "  </style>\n",
              "\n",
              "      <script>\n",
              "        const buttonEl =\n",
              "          document.querySelector('#df-0367a9cd-c5de-4059-a6d9-311288452b05 button.colab-df-convert');\n",
              "        buttonEl.style.display =\n",
              "          google.colab.kernel.accessAllowed ? 'block' : 'none';\n",
              "\n",
              "        async function convertToInteractive(key) {\n",
              "          const element = document.querySelector('#df-0367a9cd-c5de-4059-a6d9-311288452b05');\n",
              "          const dataTable =\n",
              "            await google.colab.kernel.invokeFunction('convertToInteractive',\n",
              "                                                     [key], {});\n",
              "          if (!dataTable) return;\n",
              "\n",
              "          const docLinkHtml = 'Like what you see? Visit the ' +\n",
              "            '<a target=\"_blank\" href=https://colab.research.google.com/notebooks/data_table.ipynb>data table notebook</a>'\n",
              "            + ' to learn more about interactive tables.';\n",
              "          element.innerHTML = '';\n",
              "          dataTable['output_type'] = 'display_data';\n",
              "          await google.colab.output.renderOutput(dataTable, element);\n",
              "          const docLink = document.createElement('div');\n",
              "          docLink.innerHTML = docLinkHtml;\n",
              "          element.appendChild(docLink);\n",
              "        }\n",
              "      </script>\n",
              "    </div>\n",
              "  </div>\n",
              "  "
            ]
          },
          "metadata": {},
          "execution_count": 2
        }
      ],
      "source": [
        "import pandas as pd\n",
        "import numpy as np\n",
        "import seaborn as sns\n",
        "import matplotlib.pyplot as plt\n",
        "%matplotlib inline\n",
        "\n",
        "sns.set()\n",
        "\n",
        "df = pd.read_csv('oasis_longitudinal.csv')\n",
        "df.head()"
      ]
    },
    {
      "cell_type": "code",
      "source": [
        "df = df.loc[df['Visit']==1] # use first visit data only because of the analysis we're doing\n",
        "df = df.reset_index(drop=True) # reset index after filtering first visit data\n",
        "df['M/F'] = df['M/F'].replace(['F','M'], [0,1]) # M/F column\n",
        "df['Group'] = df['Group'].replace(['Converted'], ['Demented']) # Target variable\n",
        "df['Group'] = df['Group'].replace(['Demented', 'Nondemented'], [1,0]) # Target variable\n",
        "df = df.drop(['MRI ID', 'Visit', 'Hand'], axis=1) # Drop unnecessary column"
      ],
      "metadata": {
        "id": "SaaK_O194fcV"
      },
      "execution_count": 3,
      "outputs": []
    },
    {
      "cell_type": "code",
      "source": [
        "# bar drawing function\n",
        "def bar_chart(feature):\n",
        "    Demented = df[df['Group']==1][feature].value_counts()\n",
        "    Nondemented = df[df['Group']==0][feature].value_counts()\n",
        "    df_bar = pd.DataFrame([Demented,Nondemented])\n",
        "    df_bar.index = ['Demented','Nondemented']\n",
        "    df_bar.plot(kind='bar',stacked=True, figsize=(8,5))"
      ],
      "metadata": {
        "id": "GgRvNG8g4l4B"
      },
      "execution_count": 4,
      "outputs": []
    },
    {
      "cell_type": "code",
      "source": [
        "# Gender  and  Group ( Femal=0, Male=1)\n",
        "bar_chart('M/F')\n",
        "plt.xlabel('Group')\n",
        "plt.ylabel('Number of patients')\n",
        "plt.legend()\n",
        "plt.title('Gender and Demented rate')"
      ],
      "metadata": {
        "colab": {
          "base_uri": "https://localhost:8080/",
          "height": 441
        },
        "id": "ync3G7cx4vRp",
        "outputId": "a226a1db-08c3-49e2-957b-1fec08dbce99"
      },
      "execution_count": 5,
      "outputs": [
        {
          "output_type": "execute_result",
          "data": {
            "text/plain": [
              "Text(0.5, 1.0, 'Gender and Demented rate')"
            ]
          },
          "metadata": {},
          "execution_count": 5
        },
        {
          "output_type": "display_data",
          "data": {
            "text/plain": [
              "<Figure size 576x360 with 1 Axes>"
            ],
            "image/png": "[encoded data removed]"
          },
          "metadata": {}
        }
      ]
    },
    {
      "cell_type": "markdown",
      "source": [
        "The above graph indicates that men are more likely with dementia than women."
      ],
      "metadata": {
        "id": "nFtrm3Fb43OD"
      }
    },
    {
      "cell_type": "code",
      "source": [
        "#MMSE : Mini Mental State Examination\n",
        "# Nondemented = 0, Demented =1\n",
        "# Nondemented has higher test result ranging from 25 to 30. \n",
        "#Min 17 ,MAX 30\n",
        "facet= sns.FacetGrid(df,hue=\"Group\", aspect=3)\n",
        "facet.map(sns.kdeplot,'MMSE',shade= True)\n",
        "facet.set(xlim=(0, df['MMSE'].max()))\n",
        "facet.add_legend()\n",
        "plt.xlim(15.30)"
      ],
      "metadata": {
        "colab": {
          "base_uri": "https://localhost:8080/",
          "height": 238
        },
        "id": "oitMZLjK4-5W",
        "outputId": "d14b21e8-3d3c-45db-a26b-3467ee420cd4"
      },
      "execution_count": 6,
      "outputs": [
        {
          "output_type": "execute_result",
          "data": {
            "text/plain": [
              "(15.3, 30.0)"
            ]
          },
          "metadata": {},
          "execution_count": 6
        },
        {
          "output_type": "display_data",
          "data": {
            "text/plain": [
              "<Figure size 694.6x216 with 1 Axes>"
            ],
            "image/png": "[encoded data removed]"
          },
          "metadata": {}
        }
      ]
    },
    {
      "cell_type": "markdown",
      "source": [
        "The chart shows Nondemented group got much more higher MMSE scores than Demented group."
      ],
      "metadata": {
        "id": "sYjajpBq5I6Z"
      }
    },
    {
      "cell_type": "code",
      "source": [
        "#bar_chart('ASF') = Atlas Scaling Factor\n",
        "facet= sns.FacetGrid(df,hue=\"Group\", aspect=3)\n",
        "facet.map(sns.kdeplot,'ASF',shade= True)\n",
        "facet.set(xlim=(0, df['ASF'].max()))\n",
        "facet.add_legend()\n",
        "plt.xlim(0.5, 2)\n",
        "\n",
        "#eTIV = Estimated Total Intracranial Volume\n",
        "facet= sns.FacetGrid(df,hue=\"Group\", aspect=3)\n",
        "facet.map(sns.kdeplot,'eTIV',shade= True)\n",
        "facet.set(xlim=(0, df['eTIV'].max()))\n",
        "facet.add_legend()\n",
        "plt.xlim(900, 2100)\n",
        "\n",
        "#'nWBV' = Normalized Whole Brain Volume\n",
        "# Nondemented = 0, Demented =1\n",
        "facet= sns.FacetGrid(df,hue=\"Group\", aspect=3)\n",
        "facet.map(sns.kdeplot,'nWBV',shade= True)\n",
        "facet.set(xlim=(0, df['nWBV'].max()))\n",
        "facet.add_legend()\n",
        "plt.xlim(0.6,0.9)"
      ],
      "metadata": {
        "colab": {
          "base_uri": "https://localhost:8080/",
          "height": 642
        },
        "id": "JvMJNM1j5Elq",
        "outputId": "e5d44d19-b34a-4374-bb46-ee147ae9cb97"
      },
      "execution_count": 7,
      "outputs": [
        {
          "output_type": "execute_result",
          "data": {
            "text/plain": [
              "(0.6, 0.9)"
            ]
          },
          "metadata": {},
          "execution_count": 7
        },
        {
          "output_type": "display_data",
          "data": {
            "text/plain": [
              "<Figure size 694.6x216 with 1 Axes>"
            ],
            "image/png": "[encoded data removed]"
          },
          "metadata": {}
        },
        {
          "output_type": "display_data",
          "data": {
            "text/plain": [
              "<Figure size 694.6x216 with 1 Axes>"
            ],
            "image/png": "[encoded data removed]"
          },
          "metadata": {}
        },
        {
          "output_type": "display_data",
          "data": {
            "text/plain": [
              "<Figure size 694.6x216 with 1 Axes>"
            ],
            "image/png": "[encoded data removed]"
          },
          "metadata": {}
        }
      ]
    },
    {
      "cell_type": "markdown",
      "source": [
        "The chart indicates that Nondemented group has higher brain volume ratio than Demented group. This is assumed to be because the diseases affect the brain to be shrinking its tissue."
      ],
      "metadata": {
        "id": "FhRQGLwQ5W3a"
      }
    },
    {
      "cell_type": "code",
      "source": [
        "#AGE. Nondemented =0, Demented =0\n",
        "facet= sns.FacetGrid(df,hue=\"Group\", aspect=3)\n",
        "facet.map(sns.kdeplot,'Age',shade= True)\n",
        "facet.set(xlim=(0, df['Age'].max()))\n",
        "facet.add_legend()\n",
        "plt.xlim(50,100)"
      ],
      "metadata": {
        "colab": {
          "base_uri": "https://localhost:8080/",
          "height": 238
        },
        "id": "3iBdnHrZ5Tbo",
        "outputId": "6fd53a02-8290-4549-9b02-23c2d8014b0b"
      },
      "execution_count": 8,
      "outputs": [
        {
          "output_type": "execute_result",
          "data": {
            "text/plain": [
              "(50.0, 100.0)"
            ]
          },
          "metadata": {},
          "execution_count": 8
        },
        {
          "output_type": "display_data",
          "data": {
            "text/plain": [
              "<Figure size 694.6x216 with 1 Axes>"
            ],
            "image/png": "[encoded data removed]"
          },
          "metadata": {}
        }
      ]
    },
    {
      "cell_type": "markdown",
      "source": [
        "There is a higher concentration of 70-80 years old in the Demented patient group than those in the nondemented patients. We guess patients who suffered from that kind of disease has lower survival rate so that there are a few of 90 years old."
      ],
      "metadata": {
        "id": "sFmAeNBJ5htg"
      }
    },
    {
      "cell_type": "code",
      "source": [
        "#'EDUC' = Years of Education\n",
        "# Nondemented = 0, Demented =1\n",
        "facet= sns.FacetGrid(df,hue=\"Group\", aspect=3)\n",
        "facet.map(sns.kdeplot,'EDUC',shade= True)\n",
        "facet.set(xlim=(df['EDUC'].min(), df['EDUC'].max()))\n",
        "facet.add_legend()\n",
        "plt.ylim(0, 0.16)"
      ],
      "metadata": {
        "colab": {
          "base_uri": "https://localhost:8080/",
          "height": 238
        },
        "id": "mOMTkAtS5e0U",
        "outputId": "dd7c3db0-6434-46c5-88ee-53c525dfe9a9"
      },
      "execution_count": 9,
      "outputs": [
        {
          "output_type": "execute_result",
          "data": {
            "text/plain": [
              "(0.0, 0.16)"
            ]
          },
          "metadata": {},
          "execution_count": 9
        },
        {
          "output_type": "display_data",
          "data": {
            "text/plain": [
              "<Figure size 694.6x216 with 1 Axes>"
            ],
            "image/png": "[encoded data removed]"
          },
          "metadata": {}
        }
      ]
    },
    {
      "cell_type": "markdown",
      "source": [
        "**Intermediate Result Summary**\n",
        "\n",
        "Men are more likely with demented, an Alzheimer's Disease, than Women.\n",
        "Demented patients were less educated in terms of years of education.\n",
        "Nondemented group has higher brain volume than Demented group.\n",
        "Higher concentration of 70-80 years old in Demented group than those in the nondemented patients."
      ],
      "metadata": {
        "id": "NshzRoqG6MUZ"
      }
    },
    {
      "cell_type": "markdown",
      "source": [
        "**Data Preprocessing**\n",
        "\n",
        "We identified 8 rows with missing values in SES column. We deal with this issue with 2 approaches. One is just to drop the rows with missing values. The other is to replace the missing values with the corresponing values, also known as 'Imputation'. Since we have only 150 data, I assume imputation would help the performance of our model."
      ],
      "metadata": {
        "id": "a7Xp6Jwf6W4f"
      }
    },
    {
      "cell_type": "code",
      "source": [
        "# Check missing values by each column\n",
        "pd.isnull(df).sum() \n",
        "# The column, SES has 8 missing values"
      ],
      "metadata": {
        "colab": {
          "base_uri": "https://localhost:8080/"
        },
        "id": "KdStcK3D5mcw",
        "outputId": "c69624a4-6a3e-4a47-efc0-53d1af1ae10a"
      },
      "execution_count": 10,
      "outputs": [
        {
          "output_type": "execute_result",
          "data": {
            "text/plain": [
              "Subject ID    0\n",
              "Group         0\n",
              "MR Delay      0\n",
              "M/F           0\n",
              "Age           0\n",
              "EDUC          0\n",
              "SES           8\n",
              "MMSE          0\n",
              "CDR           0\n",
              "eTIV          0\n",
              "nWBV          0\n",
              "ASF           0\n",
              "dtype: int64"
            ]
          },
          "metadata": {},
          "execution_count": 10
        }
      ]
    },
    {
      "cell_type": "markdown",
      "source": [
        "**A] Removing rows with missing values**"
      ],
      "metadata": {
        "id": "IdMGCLnF6ykn"
      }
    },
    {
      "cell_type": "code",
      "source": [
        "# Dropped the 8 rows with missing values in the column, SES\n",
        "df_dropna = df.dropna(axis=0, how='any')\n",
        "pd.isnull(df_dropna).sum()"
      ],
      "metadata": {
        "colab": {
          "base_uri": "https://localhost:8080/"
        },
        "id": "nVVoglI26uCj",
        "outputId": "b0a0c991-69b5-4fe2-bddb-57548ed632b6"
      },
      "execution_count": 11,
      "outputs": [
        {
          "output_type": "execute_result",
          "data": {
            "text/plain": [
              "Subject ID    0\n",
              "Group         0\n",
              "MR Delay      0\n",
              "M/F           0\n",
              "Age           0\n",
              "EDUC          0\n",
              "SES           0\n",
              "MMSE          0\n",
              "CDR           0\n",
              "eTIV          0\n",
              "nWBV          0\n",
              "ASF           0\n",
              "dtype: int64"
            ]
          },
          "metadata": {},
          "execution_count": 11
        }
      ]
    },
    {
      "cell_type": "code",
      "source": [
        "df_dropna['Group'].value_counts()"
      ],
      "metadata": {
        "colab": {
          "base_uri": "https://localhost:8080/"
        },
        "id": "EqfLBeF16_be",
        "outputId": "cfff36a7-6c08-4686-b3dc-8e799ec998a5"
      },
      "execution_count": 12,
      "outputs": [
        {
          "output_type": "execute_result",
          "data": {
            "text/plain": [
              "0    72\n",
              "1    70\n",
              "Name: Group, dtype: int64"
            ]
          },
          "metadata": {},
          "execution_count": 12
        }
      ]
    },
    {
      "cell_type": "code",
      "source": [
        "# Draw scatter plot between EDUC and SES\n",
        "x = df['EDUC']\n",
        "y = df['SES']\n",
        "\n",
        "ses_not_null_index = y[~y.isnull()].index\n",
        "x = x[ses_not_null_index]\n",
        "y = y[ses_not_null_index]\n",
        "\n",
        "# Draw trend line in red\n",
        "z = np.polyfit(x, y, 1)\n",
        "p = np.poly1d(z)\n",
        "plt.plot(x, y, 'go', x, p(x), \"r--\")\n",
        "plt.xlabel('Education Level(EDUC)')\n",
        "plt.ylabel('Social Economic Status(SES)')\n",
        "\n",
        "plt.show()"
      ],
      "metadata": {
        "colab": {
          "base_uri": "https://localhost:8080/",
          "height": 285
        },
        "id": "mdWbAgSc7Cni",
        "outputId": "04930a42-7cde-4753-8f90-8e148b81823e"
      },
      "execution_count": 13,
      "outputs": [
        {
          "output_type": "display_data",
          "data": {
            "text/plain": [
              "<Figure size 432x288 with 1 Axes>"
            ],
            "image/png": "[encoded data removed]"
          },
          "metadata": {}
        }
      ]
    },
    {
      "cell_type": "markdown",
      "source": [
        "**B] Imputation**\n",
        "\n",
        "Scikit-learn provides package for imputation [6], but we do it manually. Since the SES is a discrete variable, we use median for the imputation."
      ],
      "metadata": {
        "id": "g_Kt_1-27GQ3"
      }
    },
    {
      "cell_type": "code",
      "source": [
        "df.groupby(['EDUC'])['SES'].median()"
      ],
      "metadata": {
        "colab": {
          "base_uri": "https://localhost:8080/"
        },
        "id": "0IaN48j57Vwy",
        "outputId": "af7b4a7d-7af1-465f-c6b0-b8e806b1d0a9"
      },
      "execution_count": 14,
      "outputs": [
        {
          "output_type": "execute_result",
          "data": {
            "text/plain": [
              "EDUC\n",
              "6     4.0\n",
              "8     5.0\n",
              "11    4.0\n",
              "12    3.0\n",
              "13    2.0\n",
              "14    3.0\n",
              "15    2.0\n",
              "16    2.0\n",
              "17    1.0\n",
              "18    2.0\n",
              "20    1.0\n",
              "23    1.0\n",
              "Name: SES, dtype: float64"
            ]
          },
          "metadata": {},
          "execution_count": 14
        }
      ]
    },
    {
      "cell_type": "code",
      "source": [
        "df[\"SES\"].fillna(df.groupby(\"EDUC\")[\"SES\"].transform(\"median\"), inplace=True)"
      ],
      "metadata": {
        "id": "nXCfFKKb7bRs"
      },
      "execution_count": 15,
      "outputs": []
    },
    {
      "cell_type": "code",
      "source": [
        "# I confirm there're no more missing values and all the 150 data were used.\n",
        "pd.isnull(df['SES']).value_counts()"
      ],
      "metadata": {
        "colab": {
          "base_uri": "https://localhost:8080/"
        },
        "id": "whgRKHE17dzW",
        "outputId": "02539b95-0c9c-449e-98ea-c842491cd322"
      },
      "execution_count": 16,
      "outputs": [
        {
          "output_type": "execute_result",
          "data": {
            "text/plain": [
              "False    150\n",
              "Name: SES, dtype: int64"
            ]
          },
          "metadata": {},
          "execution_count": 16
        }
      ]
    },
    {
      "cell_type": "markdown",
      "source": [
        "**C] Splitting Train/Validation/Test Sets**"
      ],
      "metadata": {
        "id": "BZVOfLgg7lzk"
      }
    },
    {
      "cell_type": "code",
      "source": [
        "from sklearn.model_selection import train_test_split\n",
        "from sklearn import preprocessing\n",
        "from sklearn.preprocessing import MinMaxScaler \n",
        "from sklearn.model_selection import cross_val_score"
      ],
      "metadata": {
        "id": "xNFgJZqx7jdW"
      },
      "execution_count": 17,
      "outputs": []
    },
    {
      "cell_type": "code",
      "source": [
        "# Dataset with imputation\n",
        "Y = df['Group'].values # Target for the model\n",
        "X = df[['M/F', 'Age', 'EDUC', 'SES', 'MMSE', 'eTIV', 'nWBV', 'ASF']] # Features we use\n",
        "\n",
        "# splitting into three sets\n",
        "X_trainval, X_test, Y_trainval, Y_test = train_test_split(\n",
        "    X, Y, random_state=0)\n",
        "\n",
        "# Feature scaling\n",
        "scaler = MinMaxScaler().fit(X_trainval)\n",
        "X_trainval_scaled = scaler.transform(X_trainval)\n",
        "X_test_scaled = scaler.transform(X_test)"
      ],
      "metadata": {
        "id": "0pJgA_hA7u5E"
      },
      "execution_count": 18,
      "outputs": []
    },
    {
      "cell_type": "code",
      "source": [
        "# Dataset after dropping missing value rows\n",
        "Y = df_dropna['Group'].values # Target for the model\n",
        "X = df_dropna[['M/F', 'Age', 'EDUC', 'SES', 'MMSE', 'eTIV', 'nWBV', 'ASF']] # Features we use\n",
        "\n",
        "# splitting into three sets\n",
        "X_trainval_dna, X_test_dna, Y_trainval_dna, Y_test_dna = train_test_split(\n",
        "    X, Y, random_state=0)\n",
        "\n",
        "# Feature scaling\n",
        "scaler = MinMaxScaler().fit(X_trainval_dna)\n",
        "X_trainval_scaled_dna = scaler.transform(X_trainval_dna)\n",
        "X_test_scaled_dna = scaler.transform(X_test_dna)"
      ],
      "metadata": {
        "id": "Q4gUOqcR7wjc"
      },
      "execution_count": 19,
      "outputs": []
    },
    {
      "cell_type": "markdown",
      "source": [
        "**D] Cross-validation**\n",
        "\n",
        "We conduct 5-fold cross-validation to figure out the best parameters for each model, Logistic Regression, SVM, Decision Tree, Random Forests, and AdaBoost. Since our performance metric is accuracy, we find the best tuning parameters by accuracy. In the end, we compare the accuracy, recall and AUC for each model."
      ],
      "metadata": {
        "id": "t9McbHjW78Dk"
      }
    },
    {
      "cell_type": "markdown",
      "source": [
        "**MODEL**\n",
        "\n",
        "**A] Performance Measures**\n",
        "\n",
        "We use area under the receiver operating characteristic curve (AUC) as our main performance measure. We believe that in case of medical diagnostics for non-life threatening terminal diseases like most neurodegenerative diseases it is important to have a high true positive rate so that all patients with alzheimer's are identified as early as possible. But we also want to make sure that the false positive rate is as low as possible since we do not want to misdiagnose a healthy adult as demented and begin medical therapy. Hence AUC seemed like a ideal choice for a performance measure.\n",
        "We will also be looking at accuracy and recall for each model.\n",
        "In the figure below, you can think relevant elements as actually demented subjects. Precision and Recall [13]\n",
        "\n",
        "![Precisionrecall.svg](data:image/svg+xml;base64,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)"
      ],
      "metadata": {
        "id": "C97bsHzc8QWJ"
      }
    },
    {
      "cell_type": "markdown",
      "source": [
        "**B] Logistic Regression**\n",
        "\n",
        "The parameter C, inverse of regularization strength.\n",
        "\n",
        "Tuning range: [0.001, 0.1, 1, 10, 100]"
      ],
      "metadata": {
        "id": "JQkg8zbH8_pk"
      }
    },
    {
      "cell_type": "code",
      "source": [
        "from sklearn.linear_model import LogisticRegression\n",
        "from sklearn.svm import SVC\n",
        "from sklearn.tree import DecisionTreeClassifier\n",
        "from sklearn.ensemble import RandomForestClassifier\n",
        "from sklearn.ensemble import AdaBoostClassifier\n",
        "from sklearn.metrics import confusion_matrix, accuracy_score, recall_score, roc_curve, auc"
      ],
      "metadata": {
        "id": "fIAetDDw87K7"
      },
      "execution_count": 20,
      "outputs": []
    },
    {
      "cell_type": "code",
      "source": [
        "acc = [] # list to store all performance metric"
      ],
      "metadata": {
        "id": "PRrM2b3K8ZQR"
      },
      "execution_count": 21,
      "outputs": []
    },
    {
      "cell_type": "code",
      "source": [
        "# Dataset with imputation\n",
        "best_score=0\n",
        "kfolds=5 # set the number of folds\n",
        "\n",
        "for c in [0.001, 0.1, 1, 10, 100]:\n",
        "    logRegModel = LogisticRegression(C=c)\n",
        "    # perform cross-validation\n",
        "    scores = cross_val_score(logRegModel, X_trainval, Y_trainval, cv=kfolds, scoring='accuracy') # Get recall for each parameter setting\n",
        "    \n",
        "    # compute mean cross-validation accuracy\n",
        "    score = np.mean(scores)\n",
        "    \n",
        "    # Find the best parameters and score\n",
        "    if score > best_score:\n",
        "        best_score = score\n",
        "        best_parameters = c\n",
        "\n",
        "# rebuild a model on the combined training and validation set\n",
        "SelectedLogRegModel = LogisticRegression(C=best_parameters).fit(X_trainval_scaled, Y_trainval)\n",
        "\n",
        "test_score = SelectedLogRegModel.score(X_test_scaled, Y_test)\n",
        "PredictedOutput = SelectedLogRegModel.predict(X_test_scaled)\n",
        "test_recall = recall_score(Y_test, PredictedOutput, pos_label=1)\n",
        "fpr, tpr, thresholds = roc_curve(Y_test, PredictedOutput, pos_label=1)\n",
        "test_auc = auc(fpr, tpr)\n",
        "print(\"Best accuracy on validation set is:\", best_score)\n",
        "print(\"Best parameter for regularization (C) is: \", best_parameters)\n",
        "print(\"Test accuracy with best C parameter is\", test_score)\n",
        "print(\"Test recall with the best C parameter is\", test_recall)\n",
        "print(\"Test AUC with the best C parameter is\", test_auc)\n",
        "m = 'Logistic Regression (w/ imputation)'\n",
        "acc.append([m, test_score, test_recall, test_auc, fpr, tpr, thresholds])"
      ],
      "metadata": {
        "colab": {
          "base_uri": "https://localhost:8080/"
        },
        "id": "ojK9AGuW9fgP",
        "outputId": "779508d3-3bc8-4f58-a0c9-cffa1b6b188d"
      },
      "execution_count": 22,
      "outputs": [
        {
          "output_type": "stream",
          "name": "stderr",
          "text": [
            "/usr/local/lib/python3.8/dist-packages/sklearn/linear_model/_logistic.py:814: ConvergenceWarning: lbfgs failed to converge (status=1):\n",
            "STOP: TOTAL NO. of ITERATIONS REACHED LIMIT.\n",
            "\n",
            "Increase the number of iterations (max_iter) or scale the data as shown in:\n",
            "    https://scikit-learn.org/stable/modules/preprocessing.html\n",
            "Please also refer to the documentation for alternative solver options:\n",
            "    https://scikit-learn.org/stable/modules/linear_model.html#logistic-regression\n",
            "  n_iter_i = _check_optimize_result(\n",
            "/usr/local/lib/python3.8/dist-packages/sklearn/linear_model/_logistic.py:814: ConvergenceWarning: lbfgs failed to converge (status=1):\n",
            "STOP: TOTAL NO. of ITERATIONS REACHED LIMIT.\n",
            "\n",
            "Increase the number of iterations (max_iter) or scale the data as shown in:\n",
            "    https://scikit-learn.org/stable/modules/preprocessing.html\n",
            "Please also refer to the documentation for alternative solver options:\n",
            "    https://scikit-learn.org/stable/modules/linear_model.html#logistic-regression\n",
            "  n_iter_i = _check_optimize_result(\n",
            "/usr/local/lib/python3.8/dist-packages/sklearn/linear_model/_logistic.py:814: ConvergenceWarning: lbfgs failed to converge (status=1):\n",
            "STOP: TOTAL NO. of ITERATIONS REACHED LIMIT.\n",
            "\n",
            "Increase the number of iterations (max_iter) or scale the data as shown in:\n",
            "    https://scikit-learn.org/stable/modules/preprocessing.html\n",
            "Please also refer to the documentation for alternative solver options:\n",
            "    https://scikit-learn.org/stable/modules/linear_model.html#logistic-regression\n",
            "  n_iter_i = _check_optimize_result(\n",
            "/usr/local/lib/python3.8/dist-packages/sklearn/linear_model/_logistic.py:814: ConvergenceWarning: lbfgs failed to converge (status=1):\n",
            "STOP: TOTAL NO. of ITERATIONS REACHED LIMIT.\n",
            "\n",
            "Increase the number of iterations (max_iter) or scale the data as shown in:\n",
            "    https://scikit-learn.org/stable/modules/preprocessing.html\n",
            "Please also refer to the documentation for alternative solver options:\n",
            "    https://scikit-learn.org/stable/modules/linear_model.html#logistic-regression\n",
            "  n_iter_i = _check_optimize_result(\n",
            "/usr/local/lib/python3.8/dist-packages/sklearn/linear_model/_logistic.py:814: ConvergenceWarning: lbfgs failed to converge (status=1):\n",
            "STOP: TOTAL NO. of ITERATIONS REACHED LIMIT.\n",
            "\n",
            "Increase the number of iterations (max_iter) or scale the data as shown in:\n",
            "    https://scikit-learn.org/stable/modules/preprocessing.html\n",
            "Please also refer to the documentation for alternative solver options:\n",
            "    https://scikit-learn.org/stable/modules/linear_model.html#logistic-regression\n",
            "  n_iter_i = _check_optimize_result(\n",
            "/usr/local/lib/python3.8/dist-packages/sklearn/linear_model/_logistic.py:814: ConvergenceWarning: lbfgs failed to converge (status=1):\n",
            "STOP: TOTAL NO. of ITERATIONS REACHED LIMIT.\n",
            "\n",
            "Increase the number of iterations (max_iter) or scale the data as shown in:\n",
            "    https://scikit-learn.org/stable/modules/preprocessing.html\n",
            "Please also refer to the documentation for alternative solver options:\n",
            "    https://scikit-learn.org/stable/modules/linear_model.html#logistic-regression\n",
            "  n_iter_i = _check_optimize_result(\n",
            "/usr/local/lib/python3.8/dist-packages/sklearn/linear_model/_logistic.py:814: ConvergenceWarning: lbfgs failed to converge (status=1):\n",
            "STOP: TOTAL NO. of ITERATIONS REACHED LIMIT.\n",
            "\n",
            "Increase the number of iterations (max_iter) or scale the data as shown in:\n",
            "    https://scikit-learn.org/stable/modules/preprocessing.html\n",
            "Please also refer to the documentation for alternative solver options:\n",
            "    https://scikit-learn.org/stable/modules/linear_model.html#logistic-regression\n",
            "  n_iter_i = _check_optimize_result(\n",
            "/usr/local/lib/python3.8/dist-packages/sklearn/linear_model/_logistic.py:814: ConvergenceWarning: lbfgs failed to converge (status=1):\n",
            "STOP: TOTAL NO. of ITERATIONS REACHED LIMIT.\n",
            "\n",
            "Increase the number of iterations (max_iter) or scale the data as shown in:\n",
            "    https://scikit-learn.org/stable/modules/preprocessing.html\n",
            "Please also refer to the documentation for alternative solver options:\n",
            "    https://scikit-learn.org/stable/modules/linear_model.html#logistic-regression\n",
            "  n_iter_i = _check_optimize_result(\n",
            "/usr/local/lib/python3.8/dist-packages/sklearn/linear_model/_logistic.py:814: ConvergenceWarning: lbfgs failed to converge (status=1):\n",
            "STOP: TOTAL NO. of ITERATIONS REACHED LIMIT.\n",
            "\n",
            "Increase the number of iterations (max_iter) or scale the data as shown in:\n",
            "    https://scikit-learn.org/stable/modules/preprocessing.html\n",
            "Please also refer to the documentation for alternative solver options:\n",
            "    https://scikit-learn.org/stable/modules/linear_model.html#logistic-regression\n",
            "  n_iter_i = _check_optimize_result(\n",
            "/usr/local/lib/python3.8/dist-packages/sklearn/linear_model/_logistic.py:814: ConvergenceWarning: lbfgs failed to converge (status=1):\n",
            "STOP: TOTAL NO. of ITERATIONS REACHED LIMIT.\n",
            "\n",
            "Increase the number of iterations (max_iter) or scale the data as shown in:\n",
            "    https://scikit-learn.org/stable/modules/preprocessing.html\n",
            "Please also refer to the documentation for alternative solver options:\n",
            "    https://scikit-learn.org/stable/modules/linear_model.html#logistic-regression\n",
            "  n_iter_i = _check_optimize_result(\n",
            "/usr/local/lib/python3.8/dist-packages/sklearn/linear_model/_logistic.py:814: ConvergenceWarning: lbfgs failed to converge (status=1):\n",
            "STOP: TOTAL NO. of ITERATIONS REACHED LIMIT.\n",
            "\n",
            "Increase the number of iterations (max_iter) or scale the data as shown in:\n",
            "    https://scikit-learn.org/stable/modules/preprocessing.html\n",
            "Please also refer to the documentation for alternative solver options:\n",
            "    https://scikit-learn.org/stable/modules/linear_model.html#logistic-regression\n",
            "  n_iter_i = _check_optimize_result(\n",
            "/usr/local/lib/python3.8/dist-packages/sklearn/linear_model/_logistic.py:814: ConvergenceWarning: lbfgs failed to converge (status=1):\n",
            "STOP: TOTAL NO. of ITERATIONS REACHED LIMIT.\n",
            "\n",
            "Increase the number of iterations (max_iter) or scale the data as shown in:\n",
            "    https://scikit-learn.org/stable/modules/preprocessing.html\n",
            "Please also refer to the documentation for alternative solver options:\n",
            "    https://scikit-learn.org/stable/modules/linear_model.html#logistic-regression\n",
            "  n_iter_i = _check_optimize_result(\n",
            "/usr/local/lib/python3.8/dist-packages/sklearn/linear_model/_logistic.py:814: ConvergenceWarning: lbfgs failed to converge (status=1):\n",
            "STOP: TOTAL NO. of ITERATIONS REACHED LIMIT.\n",
            "\n",
            "Increase the number of iterations (max_iter) or scale the data as shown in:\n",
            "    https://scikit-learn.org/stable/modules/preprocessing.html\n",
            "Please also refer to the documentation for alternative solver options:\n",
            "    https://scikit-learn.org/stable/modules/linear_model.html#logistic-regression\n",
            "  n_iter_i = _check_optimize_result(\n",
            "/usr/local/lib/python3.8/dist-packages/sklearn/linear_model/_logistic.py:814: ConvergenceWarning: lbfgs failed to converge (status=1):\n",
            "STOP: TOTAL NO. of ITERATIONS REACHED LIMIT.\n",
            "\n",
            "Increase the number of iterations (max_iter) or scale the data as shown in:\n",
            "    https://scikit-learn.org/stable/modules/preprocessing.html\n",
            "Please also refer to the documentation for alternative solver options:\n",
            "    https://scikit-learn.org/stable/modules/linear_model.html#logistic-regression\n",
            "  n_iter_i = _check_optimize_result(\n",
            "/usr/local/lib/python3.8/dist-packages/sklearn/linear_model/_logistic.py:814: ConvergenceWarning: lbfgs failed to converge (status=1):\n",
            "STOP: TOTAL NO. of ITERATIONS REACHED LIMIT.\n",
            "\n",
            "Increase the number of iterations (max_iter) or scale the data as shown in:\n",
            "    https://scikit-learn.org/stable/modules/preprocessing.html\n",
            "Please also refer to the documentation for alternative solver options:\n",
            "    https://scikit-learn.org/stable/modules/linear_model.html#logistic-regression\n",
            "  n_iter_i = _check_optimize_result(\n",
            "/usr/local/lib/python3.8/dist-packages/sklearn/linear_model/_logistic.py:814: ConvergenceWarning: lbfgs failed to converge (status=1):\n",
            "STOP: TOTAL NO. of ITERATIONS REACHED LIMIT.\n",
            "\n",
            "Increase the number of iterations (max_iter) or scale the data as shown in:\n",
            "    https://scikit-learn.org/stable/modules/preprocessing.html\n",
            "Please also refer to the documentation for alternative solver options:\n",
            "    https://scikit-learn.org/stable/modules/linear_model.html#logistic-regression\n",
            "  n_iter_i = _check_optimize_result(\n",
            "/usr/local/lib/python3.8/dist-packages/sklearn/linear_model/_logistic.py:814: ConvergenceWarning: lbfgs failed to converge (status=1):\n",
            "STOP: TOTAL NO. of ITERATIONS REACHED LIMIT.\n",
            "\n",
            "Increase the number of iterations (max_iter) or scale the data as shown in:\n",
            "    https://scikit-learn.org/stable/modules/preprocessing.html\n",
            "Please also refer to the documentation for alternative solver options:\n",
            "    https://scikit-learn.org/stable/modules/linear_model.html#logistic-regression\n",
            "  n_iter_i = _check_optimize_result(\n"
          ]
        },
        {
          "output_type": "stream",
          "name": "stdout",
          "text": [
            "Best accuracy on validation set is: 0.7339920948616602\n",
            "Best parameter for regularization (C) is:  10\n",
            "Test accuracy with best C parameter is 0.7631578947368421\n",
            "Test recall with the best C parameter is 0.7\n",
            "Test AUC with the best C parameter is 0.7666666666666667\n"
          ]
        },
        {
          "output_type": "stream",
          "name": "stderr",
          "text": [
            "/usr/local/lib/python3.8/dist-packages/sklearn/linear_model/_logistic.py:814: ConvergenceWarning: lbfgs failed to converge (status=1):\n",
            "STOP: TOTAL NO. of ITERATIONS REACHED LIMIT.\n",
            "\n",
            "Increase the number of iterations (max_iter) or scale the data as shown in:\n",
            "    https://scikit-learn.org/stable/modules/preprocessing.html\n",
            "Please also refer to the documentation for alternative solver options:\n",
            "    https://scikit-learn.org/stable/modules/linear_model.html#logistic-regression\n",
            "  n_iter_i = _check_optimize_result(\n",
            "/usr/local/lib/python3.8/dist-packages/sklearn/linear_model/_logistic.py:814: ConvergenceWarning: lbfgs failed to converge (status=1):\n",
            "STOP: TOTAL NO. of ITERATIONS REACHED LIMIT.\n",
            "\n",
            "Increase the number of iterations (max_iter) or scale the data as shown in:\n",
            "    https://scikit-learn.org/stable/modules/preprocessing.html\n",
            "Please also refer to the documentation for alternative solver options:\n",
            "    https://scikit-learn.org/stable/modules/linear_model.html#logistic-regression\n",
            "  n_iter_i = _check_optimize_result(\n",
            "/usr/local/lib/python3.8/dist-packages/sklearn/linear_model/_logistic.py:814: ConvergenceWarning: lbfgs failed to converge (status=1):\n",
            "STOP: TOTAL NO. of ITERATIONS REACHED LIMIT.\n",
            "\n",
            "Increase the number of iterations (max_iter) or scale the data as shown in:\n",
            "    https://scikit-learn.org/stable/modules/preprocessing.html\n",
            "Please also refer to the documentation for alternative solver options:\n",
            "    https://scikit-learn.org/stable/modules/linear_model.html#logistic-regression\n",
            "  n_iter_i = _check_optimize_result(\n",
            "/usr/local/lib/python3.8/dist-packages/sklearn/linear_model/_logistic.py:814: ConvergenceWarning: lbfgs failed to converge (status=1):\n",
            "STOP: TOTAL NO. of ITERATIONS REACHED LIMIT.\n",
            "\n",
            "Increase the number of iterations (max_iter) or scale the data as shown in:\n",
            "    https://scikit-learn.org/stable/modules/preprocessing.html\n",
            "Please also refer to the documentation for alternative solver options:\n",
            "    https://scikit-learn.org/stable/modules/linear_model.html#logistic-regression\n",
            "  n_iter_i = _check_optimize_result(\n",
            "/usr/local/lib/python3.8/dist-packages/sklearn/linear_model/_logistic.py:814: ConvergenceWarning: lbfgs failed to converge (status=1):\n",
            "STOP: TOTAL NO. of ITERATIONS REACHED LIMIT.\n",
            "\n",
            "Increase the number of iterations (max_iter) or scale the data as shown in:\n",
            "    https://scikit-learn.org/stable/modules/preprocessing.html\n",
            "Please also refer to the documentation for alternative solver options:\n",
            "    https://scikit-learn.org/stable/modules/linear_model.html#logistic-regression\n",
            "  n_iter_i = _check_optimize_result(\n",
            "/usr/local/lib/python3.8/dist-packages/sklearn/linear_model/_logistic.py:814: ConvergenceWarning: lbfgs failed to converge (status=1):\n",
            "STOP: TOTAL NO. of ITERATIONS REACHED LIMIT.\n",
            "\n",
            "Increase the number of iterations (max_iter) or scale the data as shown in:\n",
            "    https://scikit-learn.org/stable/modules/preprocessing.html\n",
            "Please also refer to the documentation for alternative solver options:\n",
            "    https://scikit-learn.org/stable/modules/linear_model.html#logistic-regression\n",
            "  n_iter_i = _check_optimize_result(\n"
          ]
        }
      ]
    },
    {
      "cell_type": "markdown",
      "source": [
        "Best accuracy on validation set is: 0.7339920948616602\n",
        "\n",
        "Best parameter for regularization (C) is:  10\n",
        "\n",
        "Test accuracy with best C parameter is 0.7631578947368421\n",
        "\n",
        "Test recall with the best C parameter is 0.7\n",
        "\n",
        "Test AUC with the best C parameter is 0.7666666666666667"
      ],
      "metadata": {
        "id": "mI33hiEn97gG"
      }
    },
    {
      "cell_type": "code",
      "source": [
        "# Dataset after dropping missing value rows\n",
        "best_score=0\n",
        "kfolds=5 # set the number of folds\n",
        "\n",
        "for c in [0.001, 0.1, 1, 10, 100]:\n",
        "    logRegModel = LogisticRegression(C=c)\n",
        "    # perform cross-validation\n",
        "    scores = cross_val_score(logRegModel, X_trainval_scaled_dna, Y_trainval_dna, cv=kfolds, scoring='accuracy')\n",
        "    \n",
        "    # compute mean cross-validation accuracy\n",
        "    score = np.mean(scores)\n",
        "    \n",
        "    # Find the best parameters and score\n",
        "    if score > best_score:\n",
        "        best_score = score\n",
        "        best_parameters = c\n",
        "\n",
        "# rebuild a model on the combined training and validation set\n",
        "SelectedLogRegModel = LogisticRegression(C=best_parameters).fit(X_trainval_scaled_dna, Y_trainval_dna)\n",
        "\n",
        "test_score = SelectedLogRegModel.score(X_test_scaled_dna, Y_test_dna)\n",
        "PredictedOutput = SelectedLogRegModel.predict(X_test_scaled)\n",
        "test_recall = recall_score(Y_test, PredictedOutput, pos_label=1)\n",
        "fpr, tpr, thresholds = roc_curve(Y_test, PredictedOutput, pos_label=1)\n",
        "test_auc = auc(fpr, tpr)\n",
        "print(\"Best accuracy on validation set is:\", best_score)\n",
        "print(\"Best parameter for regularization (C) is: \", best_parameters)\n",
        "print(\"Test accuracy with best C parameter is\", test_score)        \n",
        "print(\"Test recall with the best C parameter is\", test_recall)\n",
        "print(\"Test AUC with the best C parameter is\", test_auc)\n",
        "\n",
        "m = 'Logistic Regression (w/ dropna)'\n",
        "acc.append([m, test_score, test_recall, test_recall, fpr, tpr, thresholds])"
      ],
      "metadata": {
        "colab": {
          "base_uri": "https://localhost:8080/"
        },
        "id": "UntsH9c09nbp",
        "outputId": "3a6ee715-fc52-4731-c0ac-781a7f14c4de"
      },
      "execution_count": 24,
      "outputs": [
        {
          "output_type": "stream",
          "name": "stdout",
          "text": [
            "Best accuracy on validation set is: 0.725974025974026\n",
            "Best parameter for regularization (C) is:  10\n",
            "Test accuracy with best C parameter is 0.8055555555555556\n",
            "Test recall with the best C parameter is 0.75\n",
            "Test AUC with the best C parameter is 0.8194444444444443\n"
          ]
        }
      ]
    },
    {
      "cell_type": "markdown",
      "source": [
        "In overall, dataset with imputation outperforms the one without imputation. For the later models, we use dataset without imputation."
      ],
      "metadata": {
        "id": "Fnavxm2a_Ke2"
      }
    },
    {
      "cell_type": "markdown",
      "source": [
        "**C] SVM**\n",
        "\n",
        "C: Penalty parameter C of the error term. [0.001, 0.01, 0.1, 1, 10, 100, 1000]\n",
        "\n",
        "gamma: kernel coefficient. [0.001, 0.01, 0.1, 1, 10, 100, 1000]\n",
        "\n",
        "kernel: kernel type. ['rbf', 'linear', 'poly', 'sigmoid']"
      ],
      "metadata": {
        "id": "PfK20hvb_Luo"
      }
    },
    {
      "cell_type": "code",
      "source": [
        "best_score = 0\n",
        "\n",
        "for c_paramter in [0.001, 0.01, 0.1, 1, 10, 100, 1000]: #iterate over the values we need to try for the parameter C\n",
        "    for gamma_paramter in [0.001, 0.01, 0.1, 1, 10, 100, 1000]: #iterate over the values we need to try for the parameter gamma\n",
        "        for k_parameter in ['rbf', 'linear', 'poly', 'sigmoid']: # iterate over the values we need to try for the kernel parameter\n",
        "            svmModel = SVC(kernel=k_parameter, C=c_paramter, gamma=gamma_paramter) #define the model\n",
        "            # perform cross-validation\n",
        "            scores = cross_val_score(svmModel, X_trainval_scaled, Y_trainval, cv=kfolds, scoring='accuracy')\n",
        "            # the training set will be split internally into training and cross validation\n",
        "\n",
        "            # compute mean cross-validation accuracy\n",
        "            score = np.mean(scores)\n",
        "            # if we got a better score, store the score and parameters\n",
        "            if score > best_score:\n",
        "                best_score = score #store the score \n",
        "                best_parameter_c = c_paramter #store the parameter c\n",
        "                best_parameter_gamma = gamma_paramter #store the parameter gamma\n",
        "                best_parameter_k = k_parameter\n",
        "            \n",
        "\n",
        "# rebuild a model with best parameters to get score \n",
        "SelectedSVMmodel = SVC(C=best_parameter_c, gamma=best_parameter_gamma, kernel=best_parameter_k).fit(X_trainval_scaled, Y_trainval)\n",
        "\n",
        "test_score = SelectedSVMmodel.score(X_test_scaled, Y_test)\n",
        "PredictedOutput = SelectedSVMmodel.predict(X_test_scaled)\n",
        "test_recall = recall_score(Y_test, PredictedOutput, pos_label=1)\n",
        "fpr, tpr, thresholds = roc_curve(Y_test, PredictedOutput, pos_label=1)\n",
        "test_auc = auc(fpr, tpr)\n",
        "print(\"Best accuracy on cross validation set is:\", best_score)\n",
        "print(\"Best parameter for c is: \", best_parameter_c)\n",
        "print(\"Best parameter for gamma is: \", best_parameter_gamma)\n",
        "print(\"Best parameter for kernel is: \", best_parameter_k)\n",
        "print(\"Test accuracy with the best parameters is\", test_score)\n",
        "print(\"Test recall with the best parameters is\", test_recall)\n",
        "print(\"Test recall with the best parameter is\", test_auc)\n",
        "\n",
        "m = 'SVM'\n",
        "acc.append([m, test_score, test_recall, test_auc, fpr, tpr, thresholds])"
      ],
      "metadata": {
        "colab": {
          "base_uri": "https://localhost:8080/"
        },
        "id": "dDedylVk_F6e",
        "outputId": "74ad39eb-9ab4-4d90-e464-d652180b2d66"
      },
      "execution_count": 25,
      "outputs": [
        {
          "output_type": "stream",
          "name": "stdout",
          "text": [
            "Best accuracy on cross validation set is: 0.7687747035573123\n",
            "Best parameter for c is:  100\n",
            "Best parameter for gamma is:  0.1\n",
            "Best parameter for kernel is:  rbf\n",
            "Test accuracy with the best parameters is 0.8157894736842105\n",
            "Test recall with the best parameters is 0.7\n",
            "Test recall with the best parameter is 0.8222222222222222\n"
          ]
        }
      ]
    },
    {
      "cell_type": "markdown",
      "source": [
        "**D] Decision Tree**\n",
        "\n",
        "Maximum depth. [1, 2, ..., 8]\n",
        "\n",
        "8 is the number of features"
      ],
      "metadata": {
        "id": "KaK-3iV5_gZe"
      }
    },
    {
      "cell_type": "code",
      "source": [
        "best_score = 0\n",
        "\n",
        "for md in range(1, 9): # iterate different maximum depth values\n",
        "    # train the model\n",
        "    treeModel = DecisionTreeClassifier(random_state=0, max_depth=md, criterion='gini')\n",
        "    # perform cross-validation\n",
        "    scores = cross_val_score(treeModel, X_trainval_scaled, Y_trainval, cv=kfolds, scoring='accuracy')\n",
        "    \n",
        "    # compute mean cross-validation accuracy\n",
        "    score = np.mean(scores)\n",
        "    \n",
        "    # if we got a better score, store the score and parameters\n",
        "    if score > best_score:\n",
        "        best_score = score\n",
        "        best_parameter = md\n",
        "\n",
        "# Rebuild a model on the combined training and validation set        \n",
        "SelectedDTModel = DecisionTreeClassifier(max_depth=best_parameter).fit(X_trainval_scaled, Y_trainval )\n",
        "\n",
        "test_score = SelectedDTModel.score(X_test_scaled, Y_test)\n",
        "PredictedOutput = SelectedDTModel.predict(X_test_scaled)\n",
        "test_recall = recall_score(Y_test, PredictedOutput, pos_label=1)\n",
        "fpr, tpr, thresholds = roc_curve(Y_test, PredictedOutput, pos_label=1)\n",
        "test_auc = auc(fpr, tpr)\n",
        "print(\"Best accuracy on validation set is:\", best_score)\n",
        "print(\"Best parameter for the maximum depth is: \", best_parameter)\n",
        "print(\"Test accuracy with best parameter is \", test_score)\n",
        "print(\"Test recall with best parameters is \", test_recall)\n",
        "print(\"Test AUC with the best parameter is \", test_auc)\n",
        "\n",
        "m = 'Decision Tree'\n",
        "acc.append([m, test_score, test_recall, test_auc, fpr, tpr, thresholds])"
      ],
      "metadata": {
        "colab": {
          "base_uri": "https://localhost:8080/"
        },
        "id": "ISGX1cNN_eBx",
        "outputId": "effaee66-3a81-49e1-95f3-0c5ef3872bc8"
      },
      "execution_count": 26,
      "outputs": [
        {
          "output_type": "stream",
          "name": "stdout",
          "text": [
            "Best accuracy on validation set is: 0.7770750988142293\n",
            "Best parameter for the maximum depth is:  1\n",
            "Test accuracy with best parameter is  0.8157894736842105\n",
            "Test recall with best parameters is  0.65\n",
            "Test AUC with the best parameter is  0.825\n"
          ]
        }
      ]
    },
    {
      "cell_type": "code",
      "source": [
        "print(\"Feature importance: \")\n",
        "np.array([X.columns.values.tolist(), list(SelectedDTModel.feature_importances_)]).T"
      ],
      "metadata": {
        "colab": {
          "base_uri": "https://localhost:8080/"
        },
        "id": "oty4mb8c_rum",
        "outputId": "4b31248f-1a73-45f4-8f4f-51d4d0e0fd75"
      },
      "execution_count": 27,
      "outputs": [
        {
          "output_type": "stream",
          "name": "stdout",
          "text": [
            "Feature importance: \n"
          ]
        },
        {
          "output_type": "execute_result",
          "data": {
            "text/plain": [
              "array([['M/F', '0.0'],\n",
              "       ['Age', '0.0'],\n",
              "       ['EDUC', '0.0'],\n",
              "       ['SES', '0.0'],\n",
              "       ['MMSE', '1.0'],\n",
              "       ['eTIV', '0.0'],\n",
              "       ['nWBV', '0.0'],\n",
              "       ['ASF', '0.0']], dtype='<U32')"
            ]
          },
          "metadata": {},
          "execution_count": 27
        }
      ]
    },
    {
      "cell_type": "code",
      "source": [
        "from sklearn.tree import export_graphviz\n",
        "import graphviz \n",
        "dot_data=export_graphviz(SelectedDTModel, feature_names=X_trainval.columns.values.tolist(),out_file=None)\n",
        "graph = graphviz.Source(dot_data)  \n",
        "graph "
      ],
      "metadata": {
        "colab": {
          "base_uri": "https://localhost:8080/",
          "height": 241
        },
        "id": "58W2LZEB_uY8",
        "outputId": "7b42a8c1-ce1b-4b38-f8e6-4e10e2813699"
      },
      "execution_count": 28,
      "outputs": [
        {
          "output_type": "execute_result",
          "data": {
            "text/plain": [
              "<graphviz.files.Source at 0x7faffe0d3f70>"
            ],
            "image/svg+xml": "<?xml version=\"1.0\" encoding=\"UTF-8\" standalone=\"no\"?>\n<!DOCTYPE svg PUBLIC \"-//W3C//DTD SVG 1.1//EN\"\n \"http://www.w3.org/Graphics/SVG/1.1/DTD/svg11.dtd\">\n<!-- Generated by graphviz version 2.43.0 (0)\n -->\n<!-- Title: Tree Pages: 1 -->\n<svg width=\"238pt\" height=\"165pt\"\n viewBox=\"0.00 0.00 238.00 165.00\" xmlns=\"http://www.w3.org/2000/svg\" xmlns:xlink=\"http://www.w3.org/1999/xlink\">\n<g id=\"graph0\" class=\"graph\" transform=\"scale(1 1) rotate(0) translate(4 161)\">\n<title>Tree</title>\n<polygon fill=\"white\" stroke=\"transparent\" points=\"-4,4 -4,-161 234,-161 234,4 -4,4\"/>\n<!-- 0 -->\n<g id=\"node1\" class=\"node\">\n<title>0</title>\n<polygon fill=\"none\" stroke=\"black\" points=\"171,-157 55,-157 55,-89 171,-89 171,-157\"/>\n<text text-anchor=\"middle\" x=\"113\" y=\"-141.8\" font-family=\"Helvetica,sans-Serif\" font-size=\"14.00\">MMSE &lt;= 0.808</text>\n<text text-anchor=\"middle\" x=\"113\" y=\"-126.8\" font-family=\"Helvetica,sans-Serif\" font-size=\"14.00\">gini = 0.499</text>\n<text text-anchor=\"middle\" x=\"113\" y=\"-111.8\" font-family=\"Helvetica,sans-Serif\" font-size=\"14.00\">samples = 112</text>\n<text text-anchor=\"middle\" x=\"113\" y=\"-96.8\" font-family=\"Helvetica,sans-Serif\" font-size=\"14.00\">value = [54, 58]</text>\n</g>\n<!-- 1 -->\n<g id=\"node2\" class=\"node\">\n<title>1</title>\n<polygon fill=\"none\" stroke=\"black\" points=\"102,-53 0,-53 0,0 102,0 102,-53\"/>\n<text text-anchor=\"middle\" x=\"51\" y=\"-37.8\" font-family=\"Helvetica,sans-Serif\" font-size=\"14.00\">gini = 0.102</text>\n<text text-anchor=\"middle\" x=\"51\" y=\"-22.8\" font-family=\"Helvetica,sans-Serif\" font-size=\"14.00\">samples = 37</text>\n<text text-anchor=\"middle\" x=\"51\" y=\"-7.8\" font-family=\"Helvetica,sans-Serif\" font-size=\"14.00\">value = [2, 35]</text>\n</g>\n<!-- 0&#45;&gt;1 -->\n<g id=\"edge1\" class=\"edge\">\n<title>0&#45;&gt;1</title>\n<path fill=\"none\" stroke=\"black\" d=\"M91.32,-88.95C85.55,-80.17 79.32,-70.66 73.51,-61.82\"/>\n<polygon fill=\"black\" stroke=\"black\" points=\"76.3,-59.68 67.89,-53.24 70.44,-63.52 76.3,-59.68\"/>\n<text text-anchor=\"middle\" x=\"62.8\" y=\"-74.01\" font-family=\"Helvetica,sans-Serif\" font-size=\"14.00\">True</text>\n</g>\n<!-- 2 -->\n<g id=\"node3\" class=\"node\">\n<title>2</title>\n<polygon fill=\"none\" stroke=\"black\" points=\"230,-53 120,-53 120,0 230,0 230,-53\"/>\n<text text-anchor=\"middle\" x=\"175\" y=\"-37.8\" font-family=\"Helvetica,sans-Serif\" font-size=\"14.00\">gini = 0.425</text>\n<text text-anchor=\"middle\" x=\"175\" y=\"-22.8\" font-family=\"Helvetica,sans-Serif\" font-size=\"14.00\">samples = 75</text>\n<text text-anchor=\"middle\" x=\"175\" y=\"-7.8\" font-family=\"Helvetica,sans-Serif\" font-size=\"14.00\">value = [52, 23]</text>\n</g>\n<!-- 0&#45;&gt;2 -->\n<g id=\"edge2\" class=\"edge\">\n<title>0&#45;&gt;2</title>\n<path fill=\"none\" stroke=\"black\" d=\"M134.68,-88.95C140.45,-80.17 146.68,-70.66 152.49,-61.82\"/>\n<polygon fill=\"black\" stroke=\"black\" points=\"155.56,-63.52 158.11,-53.24 149.7,-59.68 155.56,-63.52\"/>\n<text text-anchor=\"middle\" x=\"163.2\" y=\"-74.01\" font-family=\"Helvetica,sans-Serif\" font-size=\"14.00\">False</text>\n</g>\n</g>\n</svg>\n"
          },
          "metadata": {},
          "execution_count": 28
        }
      ]
    },
    {
      "cell_type": "markdown",
      "source": [
        "**E] Random Forest Classifier**\n",
        "\n",
        "n_estimators(M): the number of trees in the forest\n",
        "\n",
        "max_features(d): the number of features to consider when looking for the best split\n",
        "\n",
        "max_depth(m): the maximum depth of the tree."
      ],
      "metadata": {
        "id": "myljHTb3_0zk"
      }
    },
    {
      "cell_type": "code",
      "source": [
        "best_score = 0\n",
        "\n",
        "for M in range(2, 15, 2): # combines M trees\n",
        "    for d in range(1, 9): # maximum number of features considered at each split\n",
        "        for m in range(1, 9): # maximum depth of the tree\n",
        "            # train the model\n",
        "            # n_jobs(4) is the number of parallel computing\n",
        "            forestModel = RandomForestClassifier(n_estimators=M, max_features=d, n_jobs=4,\n",
        "                                          max_depth=m, random_state=0)\n",
        "        \n",
        "            # perform cross-validation\n",
        "            scores = cross_val_score(forestModel, X_trainval_scaled, Y_trainval, cv=kfolds, scoring='accuracy')\n",
        "\n",
        "            # compute mean cross-validation accuracy\n",
        "            score = np.mean(scores)\n",
        "\n",
        "            # if we got a better score, store the score and parameters\n",
        "            if score > best_score:\n",
        "                best_score = score\n",
        "                best_M = M\n",
        "                best_d = d\n",
        "                best_m = m\n",
        "\n",
        "# Rebuild a model on the combined training and validation set        \n",
        "SelectedRFModel = RandomForestClassifier(n_estimators=M, max_features=d,\n",
        "                                          max_depth=m, random_state=0).fit(X_trainval_scaled, Y_trainval )\n",
        "\n",
        "PredictedOutput = SelectedRFModel.predict(X_test_scaled)\n",
        "test_score = SelectedRFModel.score(X_test_scaled, Y_test)\n",
        "test_recall = recall_score(Y_test, PredictedOutput, pos_label=1)\n",
        "fpr, tpr, thresholds = roc_curve(Y_test, PredictedOutput, pos_label=1)\n",
        "test_auc = auc(fpr, tpr)\n",
        "print(\"Best accuracy on validation set is:\", best_score)\n",
        "print(\"Best parameters of M, d, m are: \", best_M, best_d, best_m)\n",
        "print(\"Test accuracy with the best parameters is\", test_score)\n",
        "print(\"Test recall with the best parameters is:\", test_recall)\n",
        "print(\"Test AUC with the best parameters is:\", test_auc)\n",
        "\n",
        "m = 'Random Forest'\n",
        "acc.append([m, test_score, test_recall, test_auc, fpr, tpr, thresholds])"
      ],
      "metadata": {
        "colab": {
          "base_uri": "https://localhost:8080/"
        },
        "id": "TvGLDWlt_ye9",
        "outputId": "b56a81c3-b1db-4353-e0f9-763918ae49f2"
      },
      "execution_count": 29,
      "outputs": [
        {
          "output_type": "stream",
          "name": "stdout",
          "text": [
            "Best accuracy on validation set is: 0.8035573122529645\n",
            "Best parameters of M, d, m are:  2 5 7\n",
            "Test accuracy with the best parameters is 0.868421052631579\n",
            "Test recall with the best parameters is: 0.8\n",
            "Test AUC with the best parameters is: 0.8722222222222222\n"
          ]
        }
      ]
    },
    {
      "cell_type": "code",
      "source": [
        "print(\"Feature importance: \")\n",
        "np.array([X.columns.values.tolist(), list(SelectedRFModel.feature_importances_)]).T"
      ],
      "metadata": {
        "colab": {
          "base_uri": "https://localhost:8080/"
        },
        "id": "l-acksuYAQ78",
        "outputId": "e0185ec8-5faf-40e0-c1b6-1830b26310a7"
      },
      "execution_count": 30,
      "outputs": [
        {
          "output_type": "stream",
          "name": "stdout",
          "text": [
            "Feature importance: \n"
          ]
        },
        {
          "output_type": "execute_result",
          "data": {
            "text/plain": [
              "array([['M/F', '0.03503132427481025'],\n",
              "       ['Age', '0.09551237125526228'],\n",
              "       ['EDUC', '0.06261556797214127'],\n",
              "       ['SES', '0.060620327518549066'],\n",
              "       ['MMSE', '0.4006565962793097'],\n",
              "       ['eTIV', '0.07005497528287095'],\n",
              "       ['nWBV', '0.1460571117936201'],\n",
              "       ['ASF', '0.1294517256234364']], dtype='<U32')"
            ]
          },
          "metadata": {},
          "execution_count": 30
        }
      ]
    },
    {
      "cell_type": "markdown",
      "source": [
        "**F] AdaBoost**"
      ],
      "metadata": {
        "id": "7P1DyDA0AjLc"
      }
    },
    {
      "cell_type": "code",
      "source": [
        "best_score = 0\n",
        "\n",
        "for M in range(2, 15, 2): # combines M trees\n",
        "    for lr in [0.0001, 0.001, 0.01, 0.1, 1]:\n",
        "        # train the model\n",
        "        boostModel = AdaBoostClassifier(n_estimators=M, learning_rate=lr, random_state=0)\n",
        "\n",
        "        # perform cross-validation\n",
        "        scores = cross_val_score(boostModel, X_trainval_scaled, Y_trainval, cv=kfolds, scoring='accuracy')\n",
        "\n",
        "        # compute mean cross-validation accuracy\n",
        "        score = np.mean(scores)\n",
        "\n",
        "        # if we got a better score, store the score and parameters\n",
        "        if score > best_score:\n",
        "            best_score = score\n",
        "            best_M = M\n",
        "            best_lr = lr\n",
        "\n",
        "# Rebuild a model on the combined training and validation set        \n",
        "SelectedBoostModel = AdaBoostClassifier(n_estimators=M, learning_rate=lr, random_state=0).fit(X_trainval_scaled, Y_trainval )\n",
        "\n",
        "PredictedOutput = SelectedBoostModel.predict(X_test_scaled)\n",
        "test_score = SelectedRFModel.score(X_test_scaled, Y_test)\n",
        "test_recall = recall_score(Y_test, PredictedOutput, pos_label=1)\n",
        "fpr, tpr, thresholds = roc_curve(Y_test, PredictedOutput, pos_label=1)\n",
        "test_auc = auc(fpr, tpr)\n",
        "print(\"Best accuracy on validation set is:\", best_score)\n",
        "print(\"Best parameter of M is: \", best_M)\n",
        "print(\"best parameter of LR is: \", best_lr)\n",
        "print(\"Test accuracy with the best parameter is\", test_score)\n",
        "print(\"Test recall with the best parameters is:\", test_recall)\n",
        "print(\"Test AUC with the best parameters is:\", test_auc)\n",
        "\n",
        "m = 'AdaBoost'\n",
        "acc.append([m, test_score, test_recall, test_auc, fpr, tpr, thresholds])"
      ],
      "metadata": {
        "colab": {
          "base_uri": "https://localhost:8080/"
        },
        "id": "lgR_MWPoAeKv",
        "outputId": "bdb758c6-e072-4653-8045-99f6d2f1c95b"
      },
      "execution_count": 31,
      "outputs": [
        {
          "output_type": "stream",
          "name": "stdout",
          "text": [
            "Best accuracy on validation set is: 0.7770750988142293\n",
            "Best parameter of M is:  2\n",
            "best parameter of LR is:  0.0001\n",
            "Test accuracy with the best parameter is 0.868421052631579\n",
            "Test recall with the best parameters is: 0.65\n",
            "Test AUC with the best parameters is: 0.825\n"
          ]
        }
      ]
    },
    {
      "cell_type": "code",
      "source": [
        "print(\"Feature importance: \")\n",
        "np.array([X.columns.values.tolist(), list(SelectedBoostModel.feature_importances_)]).T"
      ],
      "metadata": {
        "colab": {
          "base_uri": "https://localhost:8080/"
        },
        "id": "lH0J5LlZAsh6",
        "outputId": "9e164e75-1b4c-4b99-f226-5e6a6801c196"
      },
      "execution_count": 32,
      "outputs": [
        {
          "output_type": "stream",
          "name": "stdout",
          "text": [
            "Feature importance: \n"
          ]
        },
        {
          "output_type": "execute_result",
          "data": {
            "text/plain": [
              "array([['M/F', '0.07142857142857142'],\n",
              "       ['Age', '0.14285714285714285'],\n",
              "       ['EDUC', '0.21428571428571427'],\n",
              "       ['SES', '0.07142857142857142'],\n",
              "       ['MMSE', '0.14285714285714285'],\n",
              "       ['eTIV', '0.21428571428571427'],\n",
              "       ['nWBV', '0.14285714285714285'],\n",
              "       ['ASF', '0.0']], dtype='<U32')"
            ]
          },
          "metadata": {},
          "execution_count": 32
        }
      ]
    },
    {
      "cell_type": "markdown",
      "source": [
        "**CONCLUSION**"
      ],
      "metadata": {
        "id": "lcd6N3lFA13Y"
      }
    },
    {
      "cell_type": "markdown",
      "source": [
        "**A] RESULTS**"
      ],
      "metadata": {
        "id": "iveEWLbnBBx8"
      }
    },
    {
      "cell_type": "code",
      "source": [
        "# Performance Metric for each model\n",
        "result = pd.DataFrame(acc, columns=['Model', 'Accuracy', 'Recall', 'AUC', 'FPR', 'TPR', 'TH'])\n",
        "result[['Model', 'Accuracy', 'Recall', 'AUC']]"
      ],
      "metadata": {
        "colab": {
          "base_uri": "https://localhost:8080/",
          "height": 238
        },
        "id": "OBExs1XBAyXc",
        "outputId": "234269f4-7950-44bf-8074-73eb64751116"
      },
      "execution_count": 33,
      "outputs": [
        {
          "output_type": "execute_result",
          "data": {
            "text/plain": [
              "                                 Model  Accuracy  Recall       AUC\n",
              "0  Logistic Regression (w/ imputation)  0.763158    0.70  0.766667\n",
              "1      Logistic Regression (w/ dropna)  0.805556    0.75  0.750000\n",
              "2                                  SVM  0.815789    0.70  0.822222\n",
              "3                        Decision Tree  0.815789    0.65  0.825000\n",
              "4                        Random Forest  0.868421    0.80  0.872222\n",
              "5                             AdaBoost  0.868421    0.65  0.825000"
            ],
            "text/html": [
              "\n",
              "  <div id=\"df-585150ff-b4bf-4c62-95e7-c130ffe35fe2\">\n",
              "    <div class=\"colab-df-container\">\n",
              "      <div>\n",
              "<style scoped>\n",
              "    .dataframe tbody tr th:only-of-type {\n",
              "        vertical-align: middle;\n",
              "    }\n",
              "\n",
              "    .dataframe tbody tr th {\n",
              "        vertical-align: top;\n",
              "    }\n",
              "\n",
              "    .dataframe thead th {\n",
              "        text-align: right;\n",
              "    }\n",
              "</style>\n",
              "<table border=\"1\" class=\"dataframe\">\n",
              "  <thead>\n",
              "    <tr style=\"text-align: right;\">\n",
              "      <th></th>\n",
              "      <th>Model</th>\n",
              "      <th>Accuracy</th>\n",
              "      <th>Recall</th>\n",
              "      <th>AUC</th>\n",
              "    </tr>\n",
              "  </thead>\n",
              "  <tbody>\n",
              "    <tr>\n",
              "      <th>0</th>\n",
              "      <td>Logistic Regression (w/ imputation)</td>\n",
              "      <td>0.763158</td>\n",
              "      <td>0.70</td>\n",
              "      <td>0.766667</td>\n",
              "    </tr>\n",
              "    <tr>\n",
              "      <th>1</th>\n",
              "      <td>Logistic Regression (w/ dropna)</td>\n",
              "      <td>0.805556</td>\n",
              "      <td>0.75</td>\n",
              "      <td>0.750000</td>\n",
              "    </tr>\n",
              "    <tr>\n",
              "      <th>2</th>\n",
              "      <td>SVM</td>\n",
              "      <td>0.815789</td>\n",
              "      <td>0.70</td>\n",
              "      <td>0.822222</td>\n",
              "    </tr>\n",
              "    <tr>\n",
              "      <th>3</th>\n",
              "      <td>Decision Tree</td>\n",
              "      <td>0.815789</td>\n",
              "      <td>0.65</td>\n",
              "      <td>0.825000</td>\n",
              "    </tr>\n",
              "    <tr>\n",
              "      <th>4</th>\n",
              "      <td>Random Forest</td>\n",
              "      <td>0.868421</td>\n",
              "      <td>0.80</td>\n",
              "      <td>0.872222</td>\n",
              "    </tr>\n",
              "    <tr>\n",
              "      <th>5</th>\n",
              "      <td>AdaBoost</td>\n",
              "      <td>0.868421</td>\n",
              "      <td>0.65</td>\n",
              "      <td>0.825000</td>\n",
              "    </tr>\n",
              "  </tbody>\n",
              "</table>\n",
              "</div>\n",
              "      <button class=\"colab-df-convert\" onclick=\"convertToInteractive('df-585150ff-b4bf-4c62-95e7-c130ffe35fe2')\"\n",
              "              title=\"Convert this dataframe to an interactive table.\"\n",
              "              style=\"display:none;\">\n",
              "        \n",
              "  <svg xmlns=\"http://www.w3.org/2000/svg\" height=\"24px\"viewBox=\"0 0 24 24\"\n",
              "       width=\"24px\">\n",
              "    <path d=\"M0 0h24v24H0V0z\" fill=\"none\"/>\n",
              "    <path d=\"M18.56 5.44l.94 2.06.94-2.06 2.06-.94-2.06-.94-.94-2.06-.94 2.06-2.06.94zm-11 1L8.5 8.5l.94-2.06 2.06-.94-2.06-.94L8.5 2.5l-.94 2.06-2.06.94zm10 10l.94 2.06.94-2.06 2.06-.94-2.06-.94-.94-2.06-.94 2.06-2.06.94z\"/><path d=\"M17.41 7.96l-1.37-1.37c-.4-.4-.92-.59-1.43-.59-.52 0-1.04.2-1.43.59L10.3 9.45l-7.72 7.72c-.78.78-.78 2.05 0 2.83L4 21.41c.39.39.9.59 1.41.59.51 0 1.02-.2 1.41-.59l7.78-7.78 2.81-2.81c.8-.78.8-2.07 0-2.86zM5.41 20L4 18.59l7.72-7.72 1.47 1.35L5.41 20z\"/>\n",
              "  </svg>\n",
              "      </button>\n",
              "      \n",
              "  <style>\n",
              "    .colab-df-container {\n",
              "      display:flex;\n",
              "      flex-wrap:wrap;\n",
              "      gap: 12px;\n",
              "    }\n",
              "\n",
              "    .colab-df-convert {\n",
              "      background-color: #E8F0FE;\n",
              "      border: none;\n",
              "      border-radius: 50%;\n",
              "      cursor: pointer;\n",
              "      display: none;\n",
              "      fill: #1967D2;\n",
              "      height: 32px;\n",
              "      padding: 0 0 0 0;\n",
              "      width: 32px;\n",
              "    }\n",
              "\n",
              "    .colab-df-convert:hover {\n",
              "      background-color: #E2EBFA;\n",
              "      box-shadow: 0px 1px 2px rgba(60, 64, 67, 0.3), 0px 1px 3px 1px rgba(60, 64, 67, 0.15);\n",
              "      fill: #174EA6;\n",
              "    }\n",
              "\n",
              "    [theme=dark] .colab-df-convert {\n",
              "      background-color: #3B4455;\n",
              "      fill: #D2E3FC;\n",
              "    }\n",
              "\n",
              "    [theme=dark] .colab-df-convert:hover {\n",
              "      background-color: #434B5C;\n",
              "      box-shadow: 0px 1px 3px 1px rgba(0, 0, 0, 0.15);\n",
              "      filter: drop-shadow(0px 1px 2px rgba(0, 0, 0, 0.3));\n",
              "      fill: #FFFFFF;\n",
              "    }\n",
              "  </style>\n",
              "\n",
              "      <script>\n",
              "        const buttonEl =\n",
              "          document.querySelector('#df-585150ff-b4bf-4c62-95e7-c130ffe35fe2 button.colab-df-convert');\n",
              "        buttonEl.style.display =\n",
              "          google.colab.kernel.accessAllowed ? 'block' : 'none';\n",
              "\n",
              "        async function convertToInteractive(key) {\n",
              "          const element = document.querySelector('#df-585150ff-b4bf-4c62-95e7-c130ffe35fe2');\n",
              "          const dataTable =\n",
              "            await google.colab.kernel.invokeFunction('convertToInteractive',\n",
              "                                                     [key], {});\n",
              "          if (!dataTable) return;\n",
              "\n",
              "          const docLinkHtml = 'Like what you see? Visit the ' +\n",
              "            '<a target=\"_blank\" href=https://colab.research.google.com/notebooks/data_table.ipynb>data table notebook</a>'\n",
              "            + ' to learn more about interactive tables.';\n",
              "          element.innerHTML = '';\n",
              "          dataTable['output_type'] = 'display_data';\n",
              "          await google.colab.output.renderOutput(dataTable, element);\n",
              "          const docLink = document.createElement('div');\n",
              "          docLink.innerHTML = docLinkHtml;\n",
              "          element.appendChild(docLink);\n",
              "        }\n",
              "      </script>\n",
              "    </div>\n",
              "  </div>\n",
              "  "
            ]
          },
          "metadata": {},
          "execution_count": 33
        }
      ]
    }
  ]
}